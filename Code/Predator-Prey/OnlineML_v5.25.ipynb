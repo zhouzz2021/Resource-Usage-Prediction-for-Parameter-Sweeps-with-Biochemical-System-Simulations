{
 "cells": [
  {
   "cell_type": "code",
   "execution_count": 1,
   "id": "e685110b",
   "metadata": {},
   "outputs": [],
   "source": [
    "#Imports\n",
    "import pandas as pd\n",
    "import seaborn as sns\n",
    "import matplotlib as mpl\n",
    "import matplotlib.pyplot as plt\n",
    "mpl.rcParams['figure.dpi'] = 150\n",
    "import numpy as np\n",
    "import math\n",
    "from scipy import stats\n",
    "from pprint import pprint\n",
    "sns.set()"
   ]
  },
  {
   "cell_type": "code",
   "execution_count": 2,
   "id": "40f06d23",
   "metadata": {},
   "outputs": [],
   "source": [
    "parasweep = pd.read_csv(\"fox_rabbit3D_multipara.csv\")"
   ]
  },
  {
   "cell_type": "code",
   "execution_count": 3,
   "id": "27cf0cb7",
   "metadata": {},
   "outputs": [
    {
     "data": {
      "text/plain": [
       "(432000, 8)"
      ]
     },
     "execution_count": 3,
     "metadata": {},
     "output_type": "execute_result"
    }
   ],
   "source": [
    "parasweep.shape"
   ]
  },
  {
   "cell_type": "code",
   "execution_count": 4,
   "id": "f97817a5",
   "metadata": {},
   "outputs": [],
   "source": [
    "para_under_20_groups = parasweep.groupby(['r_birth','f_birth','f_death'])"
   ]
  },
  {
   "cell_type": "code",
   "execution_count": 5,
   "id": "32d217b6",
   "metadata": {},
   "outputs": [
    {
     "data": {
      "text/plain": [
       "26960"
      ]
     },
     "execution_count": 5,
     "metadata": {},
     "output_type": "execute_result"
    }
   ],
   "source": [
    "len(para_under_20_groups)"
   ]
  },
  {
   "cell_type": "code",
   "execution_count": 6,
   "id": "ca3b351f",
   "metadata": {},
   "outputs": [],
   "source": [
    "para_17 = parasweep[parasweep[\"runtime\"]<17]"
   ]
  },
  {
   "cell_type": "code",
   "execution_count": 7,
   "id": "12ddffc8",
   "metadata": {},
   "outputs": [
    {
     "data": {
      "text/plain": [
       "26960"
      ]
     },
     "execution_count": 7,
     "metadata": {},
     "output_type": "execute_result"
    }
   ],
   "source": [
    "len(para_17.groupby(['r_birth','f_birth','f_death']))"
   ]
  },
  {
   "cell_type": "code",
   "execution_count": 8,
   "id": "75c68b63",
   "metadata": {},
   "outputs": [
    {
     "name": "stdout",
     "output_type": "stream",
     "text": [
      "          runtime  The number of rabbits  The number of foxes  r_birth  \\\n",
      "0        0.544513           1.157000e+03          1152.000000      5.0   \n",
      "3000     0.264763           3.550000e+02           140.000000      5.0   \n",
      "27000    1.246890           1.153333e+03          1468.333333      5.0   \n",
      "30000    1.122263           5.210000e+02           679.333333      5.0   \n",
      "54000    0.424719           1.452000e+03          2225.000000      5.0   \n",
      "57000    0.458976           6.130000e+02           341.000000      5.0   \n",
      "81000   20.038674           2.177979e+07             0.000000      5.0   \n",
      "84000    1.119901           1.146667e+03           556.333333      5.0   \n",
      "108000   0.158088           2.247000e+03           897.000000      5.0   \n",
      "111000   0.177979           2.730000e+02          1099.000000      5.0   \n",
      "135000   0.397006           1.670667e+03          1190.000000      5.0   \n",
      "138000   0.474231           1.239333e+03          1304.333333      5.0   \n",
      "162000   0.278963           6.090000e+02          5321.000000      5.0   \n",
      "165000   0.274792           3.180000e+02           280.000000      5.0   \n",
      "189000  20.015165           2.424796e+07           271.000000      5.0   \n",
      "192000   0.800166           9.300000e+02          1213.000000      5.0   \n",
      "216000   0.484066           7.668000e+02           952.600000      5.0   \n",
      "219000   0.473479           1.169800e+03           841.400000      5.0   \n",
      "243000   0.644691           9.092857e+02           672.285714      5.0   \n",
      "246000   0.690129           9.025714e+02          1077.428571      5.0   \n",
      "270000   0.907377           6.836000e+02           997.400000      5.0   \n",
      "273000   0.879263           1.613800e+03          1061.800000      5.0   \n",
      "297000   1.230731           1.630429e+03           425.142857      5.0   \n",
      "300000   1.336556           9.767143e+02          1121.857143      5.0   \n",
      "324000   1.369642           1.921000e+03           379.400000      5.0   \n",
      "327000   1.408098           1.209400e+03          1314.200000      5.0   \n",
      "351000  20.012657           1.012535e+07            15.142857      5.0   \n",
      "354000   1.947165           7.892857e+02           664.428571      5.0   \n",
      "378000  20.043683           1.300649e+07           373.800000      5.0   \n",
      "381000   1.986570           1.914000e+02          1071.000000      5.0   \n",
      "405000   2.645468           1.549714e+03           613.000000      5.0   \n",
      "408000  20.034103           9.329896e+06           301.000000      5.0   \n",
      "\n",
      "        f_birth  f_death  number_of_trajectories  Timespan  \n",
      "0         0.005      5.0                       1        20  \n",
      "3000      0.005      5.0                       1        20  \n",
      "27000     0.005      5.0                       3        20  \n",
      "30000     0.005      5.0                       3        20  \n",
      "54000     0.005      5.0                       1        40  \n",
      "57000     0.005      5.0                       1        40  \n",
      "81000     0.005      5.0                       3        40  \n",
      "84000     0.005      5.0                       3        40  \n",
      "108000    0.005      5.0                       1        10  \n",
      "111000    0.005      5.0                       1        10  \n",
      "135000    0.005      5.0                       3        10  \n",
      "138000    0.005      5.0                       3        10  \n",
      "162000    0.005      5.0                       1        30  \n",
      "165000    0.005      5.0                       1        30  \n",
      "189000    0.005      5.0                       3        30  \n",
      "192000    0.005      5.0                       3        30  \n",
      "216000    0.005      5.0                       5        10  \n",
      "219000    0.005      5.0                       5        10  \n",
      "243000    0.005      5.0                       7        10  \n",
      "246000    0.005      5.0                       7        10  \n",
      "270000    0.005      5.0                       5        20  \n",
      "273000    0.005      5.0                       5        20  \n",
      "297000    0.005      5.0                       7        20  \n",
      "300000    0.005      5.0                       7        20  \n",
      "324000    0.005      5.0                       5        30  \n",
      "327000    0.005      5.0                       5        30  \n",
      "351000    0.005      5.0                       7        30  \n",
      "354000    0.005      5.0                       7        30  \n",
      "378000    0.005      5.0                       5        40  \n",
      "381000    0.005      5.0                       5        40  \n",
      "405000    0.005      5.0                       7        40  \n",
      "408000    0.005      5.0                       7        40  \n"
     ]
    }
   ],
   "source": [
    "i = 0\n",
    "for k,v in para_under_20_groups:\n",
    "    group = para_under_20_groups.get_group(k)\n",
    "    print(group)\n",
    "    \n",
    "    i = i+1\n",
    "    if i>=1:\n",
    "        break\n",
    "    \n",
    "#print(para_ml)"
   ]
  },
  {
   "cell_type": "code",
   "execution_count": 9,
   "id": "10278f9d",
   "metadata": {},
   "outputs": [
    {
     "data": {
      "text/plain": [
       "array([    0,     1,     2, ..., 26957, 26958, 26959])"
      ]
     },
     "execution_count": 9,
     "metadata": {},
     "output_type": "execute_result"
    }
   ],
   "source": [
    "para_index = np.arange(len(para_under_20_groups))\n",
    "para_index"
   ]
  },
  {
   "cell_type": "code",
   "execution_count": 10,
   "id": "ac22d973",
   "metadata": {},
   "outputs": [
    {
     "data": {
      "text/html": [
       "<div>\n",
       "<style scoped>\n",
       "    .dataframe tbody tr th:only-of-type {\n",
       "        vertical-align: middle;\n",
       "    }\n",
       "\n",
       "    .dataframe tbody tr th {\n",
       "        vertical-align: top;\n",
       "    }\n",
       "\n",
       "    .dataframe thead th {\n",
       "        text-align: right;\n",
       "    }\n",
       "</style>\n",
       "<table border=\"1\" class=\"dataframe\">\n",
       "  <thead>\n",
       "    <tr style=\"text-align: right;\">\n",
       "      <th></th>\n",
       "      <th>r_birth</th>\n",
       "      <th>f_birth</th>\n",
       "      <th>f_death</th>\n",
       "      <th>runtime_normalized</th>\n",
       "    </tr>\n",
       "  </thead>\n",
       "  <tbody>\n",
       "    <tr>\n",
       "      <th>0</th>\n",
       "      <td>NaN</td>\n",
       "      <td>NaN</td>\n",
       "      <td>NaN</td>\n",
       "      <td>NaN</td>\n",
       "    </tr>\n",
       "    <tr>\n",
       "      <th>1</th>\n",
       "      <td>NaN</td>\n",
       "      <td>NaN</td>\n",
       "      <td>NaN</td>\n",
       "      <td>NaN</td>\n",
       "    </tr>\n",
       "    <tr>\n",
       "      <th>2</th>\n",
       "      <td>NaN</td>\n",
       "      <td>NaN</td>\n",
       "      <td>NaN</td>\n",
       "      <td>NaN</td>\n",
       "    </tr>\n",
       "    <tr>\n",
       "      <th>3</th>\n",
       "      <td>NaN</td>\n",
       "      <td>NaN</td>\n",
       "      <td>NaN</td>\n",
       "      <td>NaN</td>\n",
       "    </tr>\n",
       "    <tr>\n",
       "      <th>4</th>\n",
       "      <td>NaN</td>\n",
       "      <td>NaN</td>\n",
       "      <td>NaN</td>\n",
       "      <td>NaN</td>\n",
       "    </tr>\n",
       "    <tr>\n",
       "      <th>...</th>\n",
       "      <td>...</td>\n",
       "      <td>...</td>\n",
       "      <td>...</td>\n",
       "      <td>...</td>\n",
       "    </tr>\n",
       "    <tr>\n",
       "      <th>26955</th>\n",
       "      <td>NaN</td>\n",
       "      <td>NaN</td>\n",
       "      <td>NaN</td>\n",
       "      <td>NaN</td>\n",
       "    </tr>\n",
       "    <tr>\n",
       "      <th>26956</th>\n",
       "      <td>NaN</td>\n",
       "      <td>NaN</td>\n",
       "      <td>NaN</td>\n",
       "      <td>NaN</td>\n",
       "    </tr>\n",
       "    <tr>\n",
       "      <th>26957</th>\n",
       "      <td>NaN</td>\n",
       "      <td>NaN</td>\n",
       "      <td>NaN</td>\n",
       "      <td>NaN</td>\n",
       "    </tr>\n",
       "    <tr>\n",
       "      <th>26958</th>\n",
       "      <td>NaN</td>\n",
       "      <td>NaN</td>\n",
       "      <td>NaN</td>\n",
       "      <td>NaN</td>\n",
       "    </tr>\n",
       "    <tr>\n",
       "      <th>26959</th>\n",
       "      <td>NaN</td>\n",
       "      <td>NaN</td>\n",
       "      <td>NaN</td>\n",
       "      <td>NaN</td>\n",
       "    </tr>\n",
       "  </tbody>\n",
       "</table>\n",
       "<p>26960 rows × 4 columns</p>\n",
       "</div>"
      ],
      "text/plain": [
       "      r_birth f_birth f_death runtime_normalized\n",
       "0         NaN     NaN     NaN                NaN\n",
       "1         NaN     NaN     NaN                NaN\n",
       "2         NaN     NaN     NaN                NaN\n",
       "3         NaN     NaN     NaN                NaN\n",
       "4         NaN     NaN     NaN                NaN\n",
       "...       ...     ...     ...                ...\n",
       "26955     NaN     NaN     NaN                NaN\n",
       "26956     NaN     NaN     NaN                NaN\n",
       "26957     NaN     NaN     NaN                NaN\n",
       "26958     NaN     NaN     NaN                NaN\n",
       "26959     NaN     NaN     NaN                NaN\n",
       "\n",
       "[26960 rows x 4 columns]"
      ]
     },
     "execution_count": 10,
     "metadata": {},
     "output_type": "execute_result"
    }
   ],
   "source": [
    "para_ml = pd.DataFrame(columns = ['r_birth','f_birth','f_death','runtime_normalized'], index = para_index)\n",
    "para_ml"
   ]
  },
  {
   "cell_type": "code",
   "execution_count": 11,
   "id": "990e0946",
   "metadata": {
    "scrolled": false
   },
   "outputs": [],
   "source": [
    "i = 0\n",
    "for k,v in para_under_20_groups:\n",
    "    para_ml.loc[i, \"r_birth\"] = k[0]\n",
    "    para_ml.loc[i, \"f_birth\"] = k[1]\n",
    "    para_ml.loc[i, \"f_death\"] = k[2]\n",
    "    group = para_under_20_groups.get_group(k)\n",
    "    group = group.copy()\n",
    "    # Get the result with the lowest num traj and Timespan, we'll use this as the basis.\n",
    "    group.sort_values(['number_of_trajectories','Timespan'], inplace=True)\n",
    "    group = group.reset_index()\n",
    "    \n",
    "    group17 = group[group[\"runtime\"]<17]\n",
    "    \n",
    "    if group17.shape[0] > 0:\n",
    "        group17 = group17.copy()\n",
    "        group17['runtime_normalized'] = group17[\"runtime\"]/(group17['Timespan'] * group17['number_of_trajectories'])\n",
    "        para_ml.loc[i, \"runtime_normalized\"] = group17[\"runtime_normalized\"].mean()\n",
    "    else:\n",
    "        para_ml.loc[i, \"runtime_normalized\"] = np.inf\n",
    "    \n",
    "    i = i+1\n",
    "    \n",
    "#print(para_ml)"
   ]
  },
  {
   "cell_type": "code",
   "execution_count": 12,
   "id": "f98b2b28",
   "metadata": {
    "scrolled": false
   },
   "outputs": [
    {
     "data": {
      "text/html": [
       "<div>\n",
       "<style scoped>\n",
       "    .dataframe tbody tr th:only-of-type {\n",
       "        vertical-align: middle;\n",
       "    }\n",
       "\n",
       "    .dataframe tbody tr th {\n",
       "        vertical-align: top;\n",
       "    }\n",
       "\n",
       "    .dataframe thead th {\n",
       "        text-align: right;\n",
       "    }\n",
       "</style>\n",
       "<table border=\"1\" class=\"dataframe\">\n",
       "  <thead>\n",
       "    <tr style=\"text-align: right;\">\n",
       "      <th></th>\n",
       "      <th>r_birth</th>\n",
       "      <th>f_birth</th>\n",
       "      <th>f_death</th>\n",
       "      <th>runtime_normalized</th>\n",
       "    </tr>\n",
       "  </thead>\n",
       "  <tbody>\n",
       "    <tr>\n",
       "      <th>0</th>\n",
       "      <td>5.0</td>\n",
       "      <td>0.005</td>\n",
       "      <td>5.0</td>\n",
       "      <td>0.011962</td>\n",
       "    </tr>\n",
       "    <tr>\n",
       "      <th>1</th>\n",
       "      <td>5.0</td>\n",
       "      <td>0.005</td>\n",
       "      <td>5.789474</td>\n",
       "      <td>0.011939</td>\n",
       "    </tr>\n",
       "    <tr>\n",
       "      <th>2</th>\n",
       "      <td>5.0</td>\n",
       "      <td>0.005</td>\n",
       "      <td>6.578947</td>\n",
       "      <td>0.010725</td>\n",
       "    </tr>\n",
       "    <tr>\n",
       "      <th>3</th>\n",
       "      <td>5.0</td>\n",
       "      <td>0.005</td>\n",
       "      <td>6.666667</td>\n",
       "      <td>0.011137</td>\n",
       "    </tr>\n",
       "    <tr>\n",
       "      <th>4</th>\n",
       "      <td>5.0</td>\n",
       "      <td>0.005</td>\n",
       "      <td>7.368421</td>\n",
       "      <td>0.011794</td>\n",
       "    </tr>\n",
       "    <tr>\n",
       "      <th>...</th>\n",
       "      <td>...</td>\n",
       "      <td>...</td>\n",
       "      <td>...</td>\n",
       "      <td>...</td>\n",
       "    </tr>\n",
       "    <tr>\n",
       "      <th>26955</th>\n",
       "      <td>100.0</td>\n",
       "      <td>0.1</td>\n",
       "      <td>88.157895</td>\n",
       "      <td>0.009352</td>\n",
       "    </tr>\n",
       "    <tr>\n",
       "      <th>26956</th>\n",
       "      <td>100.0</td>\n",
       "      <td>0.1</td>\n",
       "      <td>91.666667</td>\n",
       "      <td>0.010506</td>\n",
       "    </tr>\n",
       "    <tr>\n",
       "      <th>26957</th>\n",
       "      <td>100.0</td>\n",
       "      <td>0.1</td>\n",
       "      <td>92.105263</td>\n",
       "      <td>0.009184</td>\n",
       "    </tr>\n",
       "    <tr>\n",
       "      <th>26958</th>\n",
       "      <td>100.0</td>\n",
       "      <td>0.1</td>\n",
       "      <td>96.052632</td>\n",
       "      <td>0.009331</td>\n",
       "    </tr>\n",
       "    <tr>\n",
       "      <th>26959</th>\n",
       "      <td>100.0</td>\n",
       "      <td>0.1</td>\n",
       "      <td>100.0</td>\n",
       "      <td>0.010108</td>\n",
       "    </tr>\n",
       "  </tbody>\n",
       "</table>\n",
       "<p>26960 rows × 4 columns</p>\n",
       "</div>"
      ],
      "text/plain": [
       "      r_birth f_birth    f_death runtime_normalized\n",
       "0         5.0   0.005        5.0           0.011962\n",
       "1         5.0   0.005   5.789474           0.011939\n",
       "2         5.0   0.005   6.578947           0.010725\n",
       "3         5.0   0.005   6.666667           0.011137\n",
       "4         5.0   0.005   7.368421           0.011794\n",
       "...       ...     ...        ...                ...\n",
       "26955   100.0     0.1  88.157895           0.009352\n",
       "26956   100.0     0.1  91.666667           0.010506\n",
       "26957   100.0     0.1  92.105263           0.009184\n",
       "26958   100.0     0.1  96.052632           0.009331\n",
       "26959   100.0     0.1      100.0           0.010108\n",
       "\n",
       "[26960 rows x 4 columns]"
      ]
     },
     "execution_count": 12,
     "metadata": {},
     "output_type": "execute_result"
    }
   ],
   "source": [
    "para_ml"
   ]
  },
  {
   "cell_type": "code",
   "execution_count": 13,
   "id": "69066324",
   "metadata": {},
   "outputs": [
    {
     "data": {
      "text/html": [
       "<div>\n",
       "<style scoped>\n",
       "    .dataframe tbody tr th:only-of-type {\n",
       "        vertical-align: middle;\n",
       "    }\n",
       "\n",
       "    .dataframe tbody tr th {\n",
       "        vertical-align: top;\n",
       "    }\n",
       "\n",
       "    .dataframe thead th {\n",
       "        text-align: right;\n",
       "    }\n",
       "</style>\n",
       "<table border=\"1\" class=\"dataframe\">\n",
       "  <thead>\n",
       "    <tr style=\"text-align: right;\">\n",
       "      <th></th>\n",
       "      <th>r_birth</th>\n",
       "      <th>f_birth</th>\n",
       "      <th>f_death</th>\n",
       "      <th>runtime_normalized</th>\n",
       "    </tr>\n",
       "  </thead>\n",
       "  <tbody>\n",
       "  </tbody>\n",
       "</table>\n",
       "</div>"
      ],
      "text/plain": [
       "Empty DataFrame\n",
       "Columns: [r_birth, f_birth, f_death, runtime_normalized]\n",
       "Index: []"
      ]
     },
     "execution_count": 13,
     "metadata": {},
     "output_type": "execute_result"
    }
   ],
   "source": [
    "para_ml[para_ml[\"runtime_normalized\"] == np.inf]"
   ]
  },
  {
   "cell_type": "code",
   "execution_count": 14,
   "id": "f4748ee0",
   "metadata": {},
   "outputs": [],
   "source": [
    "para_ml[\"r_birth_normalized\"] = (para_ml[\"r_birth\"]-para_ml[\"r_birth\"].min())/(para_ml[\"r_birth\"].max()-para_ml[\"r_birth\"].min())\n",
    "para_ml[\"f_birth_normalized\"] = (para_ml[\"f_birth\"]-para_ml[\"f_birth\"].min())/(para_ml[\"f_birth\"].max()-para_ml[\"f_birth\"].min())\n",
    "para_ml[\"f_death_normalized\"] = (para_ml[\"f_death\"]-para_ml[\"f_death\"].min())/(para_ml[\"f_death\"].max()-para_ml[\"f_death\"].min())"
   ]
  },
  {
   "cell_type": "code",
   "execution_count": 15,
   "id": "54603c90",
   "metadata": {},
   "outputs": [
    {
     "data": {
      "text/html": [
       "<div>\n",
       "<style scoped>\n",
       "    .dataframe tbody tr th:only-of-type {\n",
       "        vertical-align: middle;\n",
       "    }\n",
       "\n",
       "    .dataframe tbody tr th {\n",
       "        vertical-align: top;\n",
       "    }\n",
       "\n",
       "    .dataframe thead th {\n",
       "        text-align: right;\n",
       "    }\n",
       "</style>\n",
       "<table border=\"1\" class=\"dataframe\">\n",
       "  <thead>\n",
       "    <tr style=\"text-align: right;\">\n",
       "      <th></th>\n",
       "      <th>r_birth</th>\n",
       "      <th>f_birth</th>\n",
       "      <th>f_death</th>\n",
       "      <th>runtime_normalized</th>\n",
       "      <th>r_birth_normalized</th>\n",
       "      <th>f_birth_normalized</th>\n",
       "      <th>f_death_normalized</th>\n",
       "    </tr>\n",
       "  </thead>\n",
       "  <tbody>\n",
       "    <tr>\n",
       "      <th>0</th>\n",
       "      <td>5.0</td>\n",
       "      <td>0.005</td>\n",
       "      <td>5.0</td>\n",
       "      <td>0.011962</td>\n",
       "      <td>0.0</td>\n",
       "      <td>0.0</td>\n",
       "      <td>0.0</td>\n",
       "    </tr>\n",
       "    <tr>\n",
       "      <th>1</th>\n",
       "      <td>5.0</td>\n",
       "      <td>0.005</td>\n",
       "      <td>5.789474</td>\n",
       "      <td>0.011939</td>\n",
       "      <td>0.0</td>\n",
       "      <td>0.0</td>\n",
       "      <td>0.00831</td>\n",
       "    </tr>\n",
       "    <tr>\n",
       "      <th>2</th>\n",
       "      <td>5.0</td>\n",
       "      <td>0.005</td>\n",
       "      <td>6.578947</td>\n",
       "      <td>0.010725</td>\n",
       "      <td>0.0</td>\n",
       "      <td>0.0</td>\n",
       "      <td>0.01662</td>\n",
       "    </tr>\n",
       "    <tr>\n",
       "      <th>3</th>\n",
       "      <td>5.0</td>\n",
       "      <td>0.005</td>\n",
       "      <td>6.666667</td>\n",
       "      <td>0.011137</td>\n",
       "      <td>0.0</td>\n",
       "      <td>0.0</td>\n",
       "      <td>0.017544</td>\n",
       "    </tr>\n",
       "    <tr>\n",
       "      <th>4</th>\n",
       "      <td>5.0</td>\n",
       "      <td>0.005</td>\n",
       "      <td>7.368421</td>\n",
       "      <td>0.011794</td>\n",
       "      <td>0.0</td>\n",
       "      <td>0.0</td>\n",
       "      <td>0.024931</td>\n",
       "    </tr>\n",
       "    <tr>\n",
       "      <th>...</th>\n",
       "      <td>...</td>\n",
       "      <td>...</td>\n",
       "      <td>...</td>\n",
       "      <td>...</td>\n",
       "      <td>...</td>\n",
       "      <td>...</td>\n",
       "      <td>...</td>\n",
       "    </tr>\n",
       "    <tr>\n",
       "      <th>26955</th>\n",
       "      <td>100.0</td>\n",
       "      <td>0.1</td>\n",
       "      <td>88.157895</td>\n",
       "      <td>0.009352</td>\n",
       "      <td>1.0</td>\n",
       "      <td>1.0</td>\n",
       "      <td>0.875346</td>\n",
       "    </tr>\n",
       "    <tr>\n",
       "      <th>26956</th>\n",
       "      <td>100.0</td>\n",
       "      <td>0.1</td>\n",
       "      <td>91.666667</td>\n",
       "      <td>0.010506</td>\n",
       "      <td>1.0</td>\n",
       "      <td>1.0</td>\n",
       "      <td>0.912281</td>\n",
       "    </tr>\n",
       "    <tr>\n",
       "      <th>26957</th>\n",
       "      <td>100.0</td>\n",
       "      <td>0.1</td>\n",
       "      <td>92.105263</td>\n",
       "      <td>0.009184</td>\n",
       "      <td>1.0</td>\n",
       "      <td>1.0</td>\n",
       "      <td>0.916898</td>\n",
       "    </tr>\n",
       "    <tr>\n",
       "      <th>26958</th>\n",
       "      <td>100.0</td>\n",
       "      <td>0.1</td>\n",
       "      <td>96.052632</td>\n",
       "      <td>0.009331</td>\n",
       "      <td>1.0</td>\n",
       "      <td>1.0</td>\n",
       "      <td>0.958449</td>\n",
       "    </tr>\n",
       "    <tr>\n",
       "      <th>26959</th>\n",
       "      <td>100.0</td>\n",
       "      <td>0.1</td>\n",
       "      <td>100.0</td>\n",
       "      <td>0.010108</td>\n",
       "      <td>1.0</td>\n",
       "      <td>1.0</td>\n",
       "      <td>1.0</td>\n",
       "    </tr>\n",
       "  </tbody>\n",
       "</table>\n",
       "<p>26960 rows × 7 columns</p>\n",
       "</div>"
      ],
      "text/plain": [
       "      r_birth f_birth    f_death runtime_normalized r_birth_normalized  \\\n",
       "0         5.0   0.005        5.0           0.011962                0.0   \n",
       "1         5.0   0.005   5.789474           0.011939                0.0   \n",
       "2         5.0   0.005   6.578947           0.010725                0.0   \n",
       "3         5.0   0.005   6.666667           0.011137                0.0   \n",
       "4         5.0   0.005   7.368421           0.011794                0.0   \n",
       "...       ...     ...        ...                ...                ...   \n",
       "26955   100.0     0.1  88.157895           0.009352                1.0   \n",
       "26956   100.0     0.1  91.666667           0.010506                1.0   \n",
       "26957   100.0     0.1  92.105263           0.009184                1.0   \n",
       "26958   100.0     0.1  96.052632           0.009331                1.0   \n",
       "26959   100.0     0.1      100.0           0.010108                1.0   \n",
       "\n",
       "      f_birth_normalized f_death_normalized  \n",
       "0                    0.0                0.0  \n",
       "1                    0.0            0.00831  \n",
       "2                    0.0            0.01662  \n",
       "3                    0.0           0.017544  \n",
       "4                    0.0           0.024931  \n",
       "...                  ...                ...  \n",
       "26955                1.0           0.875346  \n",
       "26956                1.0           0.912281  \n",
       "26957                1.0           0.916898  \n",
       "26958                1.0           0.958449  \n",
       "26959                1.0                1.0  \n",
       "\n",
       "[26960 rows x 7 columns]"
      ]
     },
     "execution_count": 15,
     "metadata": {},
     "output_type": "execute_result"
    }
   ],
   "source": [
    "para_ml"
   ]
  },
  {
   "cell_type": "code",
   "execution_count": 16,
   "id": "b2905d07",
   "metadata": {},
   "outputs": [],
   "source": [
    "X = pd.DataFrame(para_ml,columns = [\"r_birth_normalized\", \"f_birth_normalized\",\"f_death_normalized\"])\n",
    "Y = para_ml[\"runtime_normalized\"]"
   ]
  },
  {
   "cell_type": "code",
   "execution_count": 17,
   "id": "4982d364",
   "metadata": {},
   "outputs": [],
   "source": [
    "from river import stream\n",
    "from river import evaluate\n",
    "from river import metrics\n",
    "from river import neighbors\n",
    "from river import preprocessing"
   ]
  },
  {
   "cell_type": "code",
   "execution_count": 19,
   "id": "3313d794",
   "metadata": {},
   "outputs": [
    {
     "data": {
      "text/plain": [
       "KNNRegressor (\n",
       "  n_neighbors=5\n",
       "  window_size=50\n",
       "  aggregation_method=\"mean\"\n",
       "  min_distance_keep=0.\n",
       "  distance_func=functools.partial(<function minkowski_distance at 0x7f9e4d2bd790>, p=2)\n",
       ")"
      ]
     },
     "execution_count": 19,
     "metadata": {},
     "output_type": "execute_result"
    }
   ],
   "source": [
    "model = neighbors.KNNRegressor(window_size=50)\n",
    "model"
   ]
  },
  {
   "cell_type": "code",
   "execution_count": 59,
   "id": "809caeeb",
   "metadata": {
    "scrolled": false
   },
   "outputs": [
    {
     "data": {
      "text/plain": [
       "Text(0.5, 1.0, 'MAE: 0.000384, RMSE: 0.001048')"
      ]
     },
     "execution_count": 59,
     "metadata": {},
     "output_type": "execute_result"
    },
    {
     "data": {
      "image/png": "[encoded data removed]",
      "text/plain": [
       "<Figure size 1500x900 with 1 Axes>"
      ]
     },
     "metadata": {},
     "output_type": "display_data"
    }
   ],
   "source": [
    "y_trues = []\n",
    "y_preds = []\n",
    "model = neighbors.KNNRegressor(window_size=50)\n",
    "metric1 = metrics.MAE()\n",
    "metric2 = metrics.RMSE()\n",
    "for x, y in stream.iter_pandas(X, Y):\n",
    "        # Obtain the prior prediction and update the model in one go\n",
    "    y_pred = model.predict_one(x)\n",
    "    model.learn_one(x,y)\n",
    "\n",
    "        # Update the error metric\n",
    "    metric1.update(y,y_pred)\n",
    "    metric2.update(y,y_pred)\n",
    "\n",
    "    y_trues.append(y)\n",
    "    y_preds.append(y_pred)\n",
    "\n",
    "# Plot the results\n",
    "fig, ax = plt.subplots(figsize=(10, 6))\n",
    "ax.grid(alpha=0.75)\n",
    "ax.plot(Y.index, y_trues, lw=1, color='#2ecc71', alpha=0.8, label='Ground truth')\n",
    "ax.plot(Y.index, y_preds, lw=1, color='#e74c3c', alpha=0.8, label='Prediction')\n",
    "ax.legend()\n",
    "ax.set_title(f'{metric1}, {metric2}')"
   ]
  },
  {
   "cell_type": "code",
   "execution_count": null,
   "id": "d220adf8",
   "metadata": {},
   "outputs": [],
   "source": []
  }
 ],
 "metadata": {
  "kernelspec": {
   "display_name": "Python 3 (ipykernel)",
   "language": "python",
   "name": "python3"
  },
  "language_info": {
   "codemirror_mode": {
    "name": "ipython",
    "version": 3
   },
   "file_extension": ".py",
   "mimetype": "text/x-python",
   "name": "python",
   "nbconvert_exporter": "python",
   "pygments_lexer": "ipython3",
   "version": "3.8.10"
  }
 },
 "nbformat": 4,
 "nbformat_minor": 5
}
